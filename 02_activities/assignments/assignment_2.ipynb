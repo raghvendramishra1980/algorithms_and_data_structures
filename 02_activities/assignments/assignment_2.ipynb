{
 "cells": [
  {
   "cell_type": "markdown",
   "metadata": {},
   "source": [
    "# Practice Interview\n",
    "\n",
    "## Objective\n",
    "\n",
    "_*The partner assignment aims to provide participants with the opportunity to practice coding in an interview context. You will analyze your partner's Assignment 1. Moreover, code reviews are common practice in a software development team. This assignment should give you a taste of the code review process.*_\n",
    "\n",
    "## Group Size\n",
    "\n",
    "Each group should have 2 people. You will be assigned a partner\n",
    "\n",
    "## Part 1:\n",
    "\n",
    "You and your partner must share each other's Assignment 1 submission."
   ]
  },
  {
   "cell_type": "markdown",
   "metadata": {},
   "source": [
    "\n",
    "## Part 2:\n",
    "\n",
    "Create a Jupyter Notebook, create 6 of the following headings, and complete the following for your partner's assignment 1:\n",
    "\n",
    "-   Paraphrase the problem in your own words.\n"
   ]
  },
  {
   "cell_type": "code",
   "execution_count": null,
   "metadata": {},
   "outputs": [],
   "source": [
    "# Your answer here\n",
    "# Involved creating a recursive or looping system to first construct a binary tree using a breadth-first search traversal. Then, the task was to traverse each node, placing it in a set, and identify the first duplicate to report."
   ]
  },
  {
   "cell_type": "markdown",
   "metadata": {},
   "source": [
    "\n",
    "-   Create 1 new example that demonstrates you understand the problem. Trace/walkthrough 1 example that your partner made and explain it.\n"
   ]
  },
  {
   "cell_type": "code",
   "execution_count": null,
   "metadata": {},
   "outputs": [],
   "source": [
    "# Your answer here\n",
    "\n",
    "arr1 = [0,0,1,1, 2, 3, 5, 6, 7,7]\n",
    "root1 = tree_builder(arr1, 0, len(arr1)) # Build the tree\n",
    "duplicate_value1 = find_duplicate_closest_to_root(root1) # Find the duplicate closest to root\n",
    "print(\"Duplicate value closest to root:\", duplicate_value1) # Duplicate value closest to root: 0\n",
    "\n"
   ]
  },
  {
   "cell_type": "markdown",
   "metadata": {},
   "source": [
    "\n",
    "-   Copy the solution your partner wrote. \n"
   ]
  },
  {
   "cell_type": "code",
   "execution_count": 1,
   "metadata": {},
   "outputs": [
    {
     "name": "stdout",
     "output_type": "stream",
     "text": [
      "Duplicate value closest to root: 2\n",
      "Duplicate value closest to root: 10\n",
      "Duplicate value closest to root: -1\n",
      "Duplicate value closest to root: 20\n",
      "Duplicate value closest to root: -1\n"
     ]
    }
   ],
   "source": [
    "\n",
    "# Definition for a binary tree node.\n",
    "class TreeNode(object):\n",
    "     def __init__(self, val = 0, left = None, right = None):\n",
    "         self.val = val\n",
    "         self.left = left\n",
    "         self.right = right\n",
    "\n",
    "def tree_builder  (arr : list[int], i : int, n: int) -> TreeNode:\n",
    "   if not arr:\n",
    "      return None\n",
    "   root = None\n",
    "   if i < n and arr[i] is not None:\n",
    "       root = TreeNode(arr[i])\n",
    "       root.left = tree_builder(arr,2*i+1,n)\n",
    "       root.right = tree_builder(arr, 2*i+2,n)\n",
    "       return root\n",
    "\n",
    "\n",
    "# Your answer here\n",
    "# 1 Create the set and Stack\n",
    "def find_duplicate_closest_to_root(root: TreeNode) -> int:\n",
    "    if root is None:\n",
    "        return -1\n",
    "\n",
    "    seen = set()\n",
    "    stack = [root]\n",
    "# 2 Add the node to the stack, then check that node in the seen, if present return node value \n",
    "    while stack:\n",
    "        node = stack.pop()\n",
    "\n",
    "        if node.val in seen:\n",
    "            return node.val\n",
    "        else:\n",
    "            seen.add(node.val)\n",
    "# 3 pushed node right to stack then push left, because stack is last in first out it look at left node first and then the right.\n",
    "        if node.right:\n",
    "            stack.append(node.right)\n",
    "        if node.left:\n",
    "            stack.append(node.left)\n",
    "# 4 node in stack will get taken out as they are added to the seen set unless it is present in the set. \n",
    "    return -1\n",
    "\n",
    "\n",
    "arr1 = [1, 2, 2, 3, 5, 6, 7]\n",
    "root1 = tree_builder(arr1, 0, len(arr1))\n",
    "duplicate_value1 = find_duplicate_closest_to_root(root1)\n",
    "print(\"Duplicate value closest to root:\", duplicate_value1)\n",
    "\n",
    "arr2 = [1, 10, 2, 3, 10, 12, 12]\n",
    "root2 = tree_builder(arr2, 0, len(arr2))\n",
    "duplicate_value2 = find_duplicate_closest_to_root(root2)\n",
    "print(\"Duplicate value closest to root:\", duplicate_value2)\n",
    "\n",
    "arr3 = [10, 9, 8, 7]\n",
    "root3 = tree_builder(arr3, 0, len(arr3))\n",
    "duplicate_value3 = find_duplicate_closest_to_root(root3)\n",
    "print(\"Duplicate value closest to root:\", duplicate_value3)\n",
    "\n",
    "arr4 = [10, 9, 1, 7,8,2,11,12,13,15,16,18,19,20,20]\n",
    "root4 = tree_builder(arr4, 0, len(arr4))\n",
    "duplicate_value4 = find_duplicate_closest_to_root(root4)\n",
    "print(\"Duplicate value closest to root:\", duplicate_value4)\n",
    "\n",
    "arr5 = []\n",
    "root5 = tree_builder(arr5, 0, len(arr5))\n",
    "duplicate_value5 = find_duplicate_closest_to_root(root5)\n",
    "print(\"Duplicate value closest to root:\", duplicate_value5)"
   ]
  },
  {
   "cell_type": "markdown",
   "metadata": {},
   "source": [
    "\n",
    "-   Explain why their solution works in your own words.\n"
   ]
  },
  {
   "cell_type": "code",
   "execution_count": null,
   "metadata": {},
   "outputs": [],
   "source": [
    "# As nodes are added to the stack (starting from the root), they are also added to a set.\n",
    "# I then add the right node and its corresponding left sibling to the stack.\n",
    "# The left node is added to the set, and both its right and left children are added to the stack.\n",
    "# Assuming these children are either unique or None, they will be removed from the stack after popping the root's right node and appending its children.\n",
    "# The helper function traverses each node in a top-down manner (breadth-first search) and adds it to the set.\n"
   ]
  },
  {
   "cell_type": "markdown",
   "metadata": {},
   "source": [
    "\n",
    "-   Explain the problem’s time and space complexity in your own words.\n"
   ]
  },
  {
   "cell_type": "code",
   "execution_count": null,
   "metadata": {},
   "outputs": [],
   "source": [
    "# This code pushes all left-side nodes onto the stack, then traverses all nodes once from the right.\n",
    "# This results in a time complexity of O(n).\n",
    "# In the worst-case scenario where there are no duplicates, all values will be stored in a set, leading to a space complexity of O(n)."
   ]
  },
  {
   "cell_type": "markdown",
   "metadata": {},
   "source": [
    "\n",
    "-   Critique your partner's solution, including explanation, and if there is anything that should be adjusted.\n"
   ]
  },
  {
   "cell_type": "code",
   "execution_count": null,
   "metadata": {},
   "outputs": [],
   "source": [
    "# 1. TreeNode Class Definition\n",
    "    # The TreeNode class is properly defined and doesn't need any changes.\n",
    "# 2. Tree Builder Function\n",
    "    # The function tree_builder is well-implemented but can be simplified slightly. The explicit check if not arr is unnecessary since the base case if i >= n already handles this.\n",
    "    # Return None at the end is missing.\n",
    "# 3. find_duplicate_closest_to_root Function\n",
    "    # The logic is correct. However, comments can be improved for better understanding.\n",
    "    # An additional check can be added to ensure the function handles invalid input gracefully.\n",
    "# 4. Testing Code\n",
    "    # The testing code is correct but can be wrapped in a function for reusability.\n"
   ]
  },
  {
   "cell_type": "markdown",
   "metadata": {},
   "source": [
    "\n",
    "## Part 3:\n",
    "\n",
    "Please write a 200 word reflection documenting your process from assignment 1, and your presentation and review experience with your partner at the bottom of the Jupyter Notebook under a new heading \"Reflection.\" Again, export this Notebook as pdf.\n"
   ]
  },
  {
   "cell_type": "markdown",
   "metadata": {},
   "source": [
    "### Reflection"
   ]
  },
  {
   "cell_type": "code",
   "execution_count": null,
   "metadata": {},
   "outputs": [],
   "source": [
    "# In this assignment, I focused on reviewing and refining a solution designed to build a binary tree from an array\n",
    "#  and identify the first duplicate value closest to the root. The process began with a detailed examination of the provided code,\n",
    "#  which involved understanding its logic, structure, and potential shortcomings. I ensured the TreeNode class and tree-building \n",
    "# logic were correctly implemented and then analyzed the find_duplicate_closest_to_root function for efficiency and clarity.\n",
    "\n",
    "# The critique emphasized improving comments for better comprehension, handling edge cases, and simplifying code where possible. \n",
    "# For instance, unnecessary checks could be removed from the tree_builder function, and a missing return statement \n",
    "# should be added to ensure proper functionality.\n",
    "\n",
    "# Presenting the review involved outlining the logical flow and the rationale behind each suggested adjustment. \n",
    "# This approach helped ensure the revised code was not only correct but also easy to understand and maintain. \n",
    "# Overall, this exercise reinforced the importance of clear documentation, edge case handling, and code readability in software development."
   ]
  },
  {
   "cell_type": "markdown",
   "metadata": {},
   "source": [
    "\n",
    "## Evaluation Criteria\n",
    "\n",
    "We are looking for the similar points as Assignment 1\n",
    "\n",
    "-   Problem is accurately stated\n",
    "\n",
    "-   New example is correct and easily understandable\n",
    "\n",
    "-   Correctness, time, and space complexity of the coding solution\n",
    "\n",
    "-   Clarity in explaining why the solution works, its time and space complexity\n",
    "\n",
    "-   Quality of critique of your partner's assignment, if necessary\n"
   ]
  },
  {
   "cell_type": "markdown",
   "metadata": {},
   "source": [
    "## Submission Information\n",
    "\n",
    "🚨 **Please review our [Assignment Submission Guide](https://github.com/UofT-DSI/onboarding/blob/main/onboarding_documents/submissions.md)** 🚨 for detailed instructions on how to format, branch, and submit your work. Following these guidelines is crucial for your submissions to be evaluated correctly.\n",
    "\n",
    "### Submission Parameters:\n",
    "* Submission Due Date: `HH:MM AM/PM - DD/MM/YYYY`\n",
    "* The branch name for your repo should be: `assignment-2`\n",
    "* What to submit for this assignment:\n",
    "    * This Jupyter Notebook (assignment_2.ipynb) should be populated and should be the only change in your pull request.\n",
    "* What the pull request link should look like for this assignment: `https://github.com/<your_github_username>/algorithms_and_data_structures/pull/<pr_id>`\n",
    "    * Open a private window in your browser. Copy and paste the link to your pull request into the address bar. Make sure you can see your pull request properly. This helps the technical facilitator and learning support staff review your submission easily.\n",
    "\n",
    "Checklist:\n",
    "- [ ] Created a branch with the correct naming convention.\n",
    "- [ ] Ensured that the repository is public.\n",
    "- [ ] Reviewed the PR description guidelines and adhered to them.\n",
    "- [ ] Verify that the link is accessible in a private browser window.\n",
    "\n",
    "If you encounter any difficulties or have questions, please don't hesitate to reach out to our team via our Slack at `#cohort-3-help`. Our Technical Facilitators and Learning Support staff are here to help you navigate any challenges.\n"
   ]
  }
 ],
 "metadata": {
  "kernelspec": {
   "display_name": "dsi_participant",
   "language": "python",
   "name": "python3"
  },
  "language_info": {
   "codemirror_mode": {
    "name": "ipython",
    "version": 3
   },
   "file_extension": ".py",
   "mimetype": "text/x-python",
   "name": "python",
   "nbconvert_exporter": "python",
   "pygments_lexer": "ipython3",
   "version": "3.9.19"
  }
 },
 "nbformat": 4,
 "nbformat_minor": 2
}
